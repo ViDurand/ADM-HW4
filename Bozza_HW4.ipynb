{
 "cells": [
  {
   "cell_type": "code",
   "execution_count": 2,
   "metadata": {
    "collapsed": true
   },
   "outputs": [],
   "source": [
    "import json\n",
    "json_data = open('/home/mattiapdo/Desktop/ADM - Algorithmic Methods/Homework_3/reduced_dblp.json').read()"
   ]
  },
  {
   "cell_type": "code",
   "execution_count": 3,
   "metadata": {
    "collapsed": true
   },
   "outputs": [],
   "source": [
    "data = json.loads(json_data)"
   ]
  },
  {
   "cell_type": "markdown",
   "metadata": {},
   "source": [
    "    data  \n",
    " is a list of dictionaries... let's see the first item"
   ]
  },
  {
   "cell_type": "code",
   "execution_count": 78,
   "metadata": {},
   "outputs": [
    {
     "data": {
      "text/plain": [
       "{'authors': [{'author': 'h&eacute;lio marcos paz de almeida',\n",
       "   'author_id': 255206},\n",
       "  {'author': 'dorgival olavo guedes neto', 'author_id': 255207},\n",
       "  {'author': 'wagner meira jr.', 'author_id': 16585},\n",
       "  {'author': 'mohammed j. zaki', 'author_id': 255208}],\n",
       " 'id_conference': 'conf/pkdd/2011-1',\n",
       " 'id_conference_int': 3052,\n",
       " 'id_publication': 'conf/pkdd/almeidanmz11',\n",
       " 'id_publication_int': 161535,\n",
       " 'title': 'is there a best quality metric for graph clusters?'}"
      ]
     },
     "execution_count": 78,
     "metadata": {},
     "output_type": "execute_result"
    }
   ],
   "source": [
    "data[0]"
   ]
  },
  {
   "cell_type": "markdown",
   "metadata": {},
   "source": [
    "We want to create a graph of all the authors... so we can scroll the list and, for each element of the list, check whether each author is in a dictionary 'of all the authors'\n",
    "\n",
    "\n",
    "If NO\n",
    "- add the author to the dictionary, and it's corresponding value: the id of the current publication\n",
    "- create a new vertex in the graph, named as the id of the author\n",
    "\n",
    "If YES\n",
    "- insert the current publication id to the author in the dictionary\n",
    "\n",
    "Before moving to next item of the list (to another publication), let's add a link between the authors that collaborated for that work (if they are not linked yet)"
   ]
  },
  {
   "cell_type": "code",
   "execution_count": 5,
   "metadata": {
    "collapsed": true
   },
   "outputs": [],
   "source": [
    "import networkx as nx\n",
    "import matplotlib as plt"
   ]
  },
  {
   "cell_type": "code",
   "execution_count": 79,
   "metadata": {
    "collapsed": true
   },
   "outputs": [],
   "source": [
    "def nodes_connected(G, u, v):\n",
    "    #this function returns \n",
    "    # True if the nodes are neighbours\n",
    "    # False if the nodes are not neighbours\n",
    "    return u in G.neighbors(v) and v in G.neighbors(u)"
   ]
  },
  {
   "cell_type": "code",
   "execution_count": 7,
   "metadata": {
    "collapsed": true
   },
   "outputs": [],
   "source": [
    "#Let's initialize a new graph (name is autoexplicative)\n",
    "Authors = nx.Graph()\n",
    "Authors.name = 'Authors Graph'\n",
    "\n",
    "#let's build the inverted dictionary for the authors\n",
    "inverted_dictionary = {}\n",
    "for dictionary in data:\n",
    "    # add authors to the graph if they are not in and\n",
    "    # build the inverted dictionary\n",
    "    for author in dictionary['authors']:\n",
    "        if author['author_id'] not in inverted_dictionary:\n",
    "            Authors.add_node(author['author_id'], name = author['author'] )\n",
    "            inverted_dictionary[author['author_id']] = {'name': author['author'], 'publications':[(dictionary['id_publication_int'],dictionary['title'])]}\n",
    "        else:\n",
    "            inverted_dictionary[author['author_id']]['publications'].append((dictionary['id_publication_int'],dictionary['title']))\n",
    "    \n",
    "    # add edges between authors that appear as contributors in the publication\n",
    "    # if they are not still connected\n",
    "    for author1 in dictionary['authors']:\n",
    "        for author2 in dictionary['authors']:\n",
    "            if not nodes_connected(Authors, author1['author_id'], author2['author_id']) and author1!=author2:\n",
    "                Authors.add_edge(author1['author_id'],author2['author_id'])"
   ]
  },
  {
   "cell_type": "code",
   "execution_count": 84,
   "metadata": {},
   "outputs": [
    {
     "data": {
      "text/plain": [
       "{'name': 'xindong wu',\n",
       " 'publications': [(161687,\n",
       "   'active learning of model parameters for influence maximization.'),\n",
       "  (383148, 'towards mining trapezoidal data streams.'),\n",
       "  (383188,\n",
       "   'learning label specific features for multi-label classification.')]}"
      ]
     },
     "execution_count": 84,
     "metadata": {},
     "output_type": "execute_result"
    }
   ],
   "source": [
    "inverted_dictionary[9308]"
   ]
  },
  {
   "cell_type": "markdown",
   "metadata": {
    "collapsed": true
   },
   "source": [
    "Now,\n",
    "    \n",
    "    for each couple of authors:\n",
    "        if they are linked:\n",
    "            evaluate the Jaccard distance\n",
    "            set it as weigth for the edge\n",
    "        "
   ]
  },
  {
   "cell_type": "code",
   "execution_count": 85,
   "metadata": {
    "collapsed": true
   },
   "outputs": [],
   "source": [
    "def jaccard_dist (id_1, id_2, inv_dict):\n",
    "    #this function returns the Jaccard distance between two authors\n",
    "    publ_1 = set([inverted_dictionary[id_1]['publications'][i][0] for i in range(len(inverted_dictionary[id_1]['publications']))])\n",
    "    publ_2 = set([inverted_dictionary[id_2]['publications'][i][0] for i in range(len(inverted_dictionary[id_2]['publications']))])\n",
    "    union  = publ_1.union(publ_2)\n",
    "    intersection = publ_1.intersection(publ_2)\n",
    "    return 1-len(intersection)/len(union)"
   ]
  },
  {
   "cell_type": "code",
   "execution_count": 9,
   "metadata": {
    "collapsed": true
   },
   "outputs": [],
   "source": [
    "#let's add weigths to the graphs\n",
    "for author1 in inverted_dictionary:\n",
    "    for author2 in Authors.neighbors(author1):\n",
    "        Authors[author1][author2]['weight'] = jaccard_dist(author1, author2, inverted_dictionary)"
   ]
  },
  {
   "cell_type": "markdown",
   "metadata": {},
   "source": [
    "# ho qualche problema.."
   ]
  },
  {
   "cell_type": "code",
   "execution_count": 86,
   "metadata": {},
   "outputs": [
    {
     "data": {
      "text/plain": [
       "'Name: Contributors to 3345 conference\\nType: Graph\\nNumber of nodes: 7771\\nNumber of edges: 16488\\nAverage degree:   4.2435'"
      ]
     },
     "execution_count": 86,
     "metadata": {},
     "output_type": "execute_result"
    }
   ],
   "source": [
    "nx.info(Authors) #edges adriano : 16689"
   ]
  },
  {
   "cell_type": "markdown",
   "metadata": {
    "collapsed": true
   },
   "source": [
    "## Given a conference in input, return the subgraph induced by the set of authors who published at the input conference at least once\n",
    "\n",
    "given the list of nodes of the subgraph \n",
    "              \n",
    "    nbunch\n",
    "    \n",
    "we can make the induced subgraph as follows:\n",
    "\n",
    "    Graph.subgraph(nbunch)\n",
    "    \n",
    "Return the subgraph induced on nodes in nbunch. The induced subgraph of the graph conOtains the nodes in nbunch and the edges between those nodes.. For **example**\n",
    "\n",
    "    >>> G = nx.Graph()   # or DiGraph, MultiGraph, MultiDiGraph, etc\n",
    "    >>> G.add_path([0,1,2,3])\n",
    "    >>> H = G.subgraph([0,1,2])\n",
    "    >>> H.edges()\n",
    "    [(0, 1), (1, 2)]"
   ]
  },
  {
   "cell_type": "markdown",
   "metadata": {},
   "source": [
    "Let's create an inverted dictionary for the publications"
   ]
  },
  {
   "cell_type": "code",
   "execution_count": 89,
   "metadata": {},
   "outputs": [],
   "source": [
    "pubDict = {}\n",
    "#in questo dizionario la chiave è la publication id\n",
    "#i valori sono gli autori\n",
    "for i in range(len(data)):\n",
    "    for a in data[i]['authors']:\n",
    "        for j in range(len(data[i]['authors'])):\n",
    "            key = data[i]['id_conference_int']\n",
    "            if key in pubDict.keys():\n",
    "                if data[i]['authors'][j]['author_id'] not in pubDict[key]:\n",
    "                    pubDict[key].append(data[i]['authors'][j]['author_id'])\n",
    "            else:\n",
    "                pubDict[key] = [data[i]['authors'][j]['author_id']]"
   ]
  },
  {
   "cell_type": "code",
   "execution_count": 92,
   "metadata": {},
   "outputs": [
    {
     "name": "stdout",
     "output_type": "stream",
     "text": [
      "3345\n"
     ]
    }
   ],
   "source": [
    "#inserire in input la pubblicazione\n",
    "confInt = int(input())\n",
    "#nbunch will be the list of author's id that contribuited to tha\n",
    "nbunch = pubDict[confInt]\n",
    "#try for example 3345"
   ]
  },
  {
   "cell_type": "markdown",
   "metadata": {},
   "source": [
    "### Subgraph induced"
   ]
  },
  {
   "cell_type": "code",
   "execution_count": 95,
   "metadata": {},
   "outputs": [
    {
     "data": {
      "text/plain": [
       "'Name: Contributors to 3345 conference\\nType: Graph\\nNumber of nodes: 622\\nNumber of edges: 1659\\nAverage degree:   5.3344'"
      ]
     },
     "execution_count": 95,
     "metadata": {},
     "output_type": "execute_result"
    }
   ],
   "source": [
    "Sottografo = Authors.subgraph(nbunch)\n",
    "Sottografo.name = 'Contributors to '+ str(confInt) + ' conference'\n",
    "nx.info(Sottografo)"
   ]
  },
  {
   "cell_type": "markdown",
   "metadata": {},
   "source": [
    "## Do statistics and plot them"
   ]
  },
  {
   "cell_type": "markdown",
   "metadata": {},
   "source": [
    "Take some centrality measures"
   ]
  },
  {
   "cell_type": "code",
   "execution_count": 43,
   "metadata": {
    "collapsed": true
   },
   "outputs": [],
   "source": [
    "degree_centrality = nx.degree_centrality(Sottografo)\n",
    "closeness_centrality = nx.closeness_centrality(Sottografo)\n",
    "betweeness_centrality = nx.betweenness_centrality(Sottografo)"
   ]
  },
  {
   "cell_type": "markdown",
   "metadata": {},
   "source": [
    "Get the values of such dictionaries as lists"
   ]
  },
  {
   "cell_type": "code",
   "execution_count": 68,
   "metadata": {},
   "outputs": [],
   "source": [
    "degrees =list(degree_centrality.values())\n",
    "centralities = list(closeness_centrality.values())\n",
    "betweennesses = list(betweeness_centrality.values())"
   ]
  },
  {
   "cell_type": "markdown",
   "metadata": {},
   "source": [
    "Plot the histogram of centralities measures"
   ]
  },
  {
   "cell_type": "code",
   "execution_count": 94,
   "metadata": {},
   "outputs": [
    {
     "data": {
      "text/plain": [
       "<matplotlib.figure.Figure at 0x7faebb537ef0>"
      ]
     },
     "metadata": {},
     "output_type": "display_data"
    },
    {
     "data": {
      "image/png": "[encoded data removed]",
      "text/plain": [
       "<matplotlib.figure.Figure at 0x7faebb537fd0>"
      ]
     },
     "metadata": {},
     "output_type": "display_data"
    },
    {
     "data": {
      "text/plain": [
       "<matplotlib.figure.Figure at 0x7faebb2916d8>"
      ]
     },
     "metadata": {},
     "output_type": "display_data"
    },
    {
     "data": {
      "image/png": "[encoded data removed]",
      "text/plain": [
       "<matplotlib.figure.Figure at 0x7faec055ee10>"
      ]
     },
     "metadata": {},
     "output_type": "display_data"
    },
    {
     "data": {
      "text/plain": [
       "<matplotlib.figure.Figure at 0x7faebb4d0ef0>"
      ]
     },
     "metadata": {},
     "output_type": "display_data"
    },
    {
     "data": {
      "image/png": "[encoded data removed]",
      "text/plain": [
       "<matplotlib.figure.Figure at 0x7faebb4d07f0>"
      ]
     },
     "metadata": {},
     "output_type": "display_data"
    }
   ],
   "source": [
    "plt.clf()\n",
    "plt.figure()\n",
    "plt.hist(degrees, bins=30, color='red', histtype='step')\n",
    "plt.title('Degree centrality histogram')\n",
    "plt.xlabel('degree centrality')\n",
    "plt.ylabel('count')\n",
    "plt.xlim()\n",
    "plt.show()\n",
    "\n",
    "plt.clf()\n",
    "plt.figure()\n",
    "plt.hist(degrees, bins=30, color='blue', histtype='step')\n",
    "plt.title('Closeness centrality histogram')\n",
    "plt.xlabel('closeness centrality')\n",
    "plt.ylabel('count')\n",
    "plt.show()\n",
    "\n",
    "plt.clf()\n",
    "plt.figure()\n",
    "plt.hist(degrees, bins=30, color='green', histtype='step')\n",
    "plt.title('Betweenness centrality histogram')\n",
    "plt.xlabel('betweennes centrality')\n",
    "plt.ylabel('count')\n",
    "plt.show()"
   ]
  },
  {
   "cell_type": "markdown",
   "metadata": {},
   "source": [
    "## given in input an author and an integer d, get the subgraph induced by the nodes that have hop distance (i.e., number of edges) at most equal to d with the input author. Then, visualize the graph."
   ]
  },
  {
   "cell_type": "code",
   "execution_count": null,
   "metadata": {
    "collapsed": true
   },
   "outputs": [],
   "source": []
  }
 ],
 "metadata": {
  "kernelspec": {
   "display_name": "Python 3",
   "language": "python",
   "name": "python3"
  },
  "language_info": {
   "codemirror_mode": {
    "name": "ipython",
    "version": 3
   },
   "file_extension": ".py",
   "mimetype": "text/x-python",
   "name": "python",
   "nbconvert_exporter": "python",
   "pygments_lexer": "ipython3",
   "version": "3.6.2"
  }
 },
 "nbformat": 4,
 "nbformat_minor": 2
}
