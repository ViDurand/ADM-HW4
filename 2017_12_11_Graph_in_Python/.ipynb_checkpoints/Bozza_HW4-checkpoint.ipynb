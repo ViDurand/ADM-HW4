{
 "cells": [
  {
   "cell_type": "code",
   "execution_count": 1,
   "metadata": {
    "collapsed": true
   },
   "outputs": [],
   "source": [
    "import json\n",
    "json_data = open('/home/mattiapdo/Desktop/ADM - Algorithmic Methods/Homework_3/reduced_dblp.json').read()"
   ]
  },
  {
   "cell_type": "code",
   "execution_count": 10,
   "metadata": {},
   "outputs": [],
   "source": [
    "data = json.loads(json_data)\n",
    "#data"
   ]
  },
  {
   "cell_type": "markdown",
   "metadata": {},
   "source": [
    "data is a list of dictionaries... let's see the first item"
   ]
  },
  {
   "cell_type": "code",
   "execution_count": 14,
   "metadata": {},
   "outputs": [
    {
     "data": {
      "text/plain": [
       "{'authors': [{'author': 'h&eacute;lio marcos paz de almeida',\n",
       "   'author_id': 255206},\n",
       "  {'author': 'dorgival olavo guedes neto', 'author_id': 255207},\n",
       "  {'author': 'wagner meira jr.', 'author_id': 16585},\n",
       "  {'author': 'mohammed j. zaki', 'author_id': 255208}],\n",
       " 'id_conference': 'conf/pkdd/2011-1',\n",
       " 'id_conference_int': 3052,\n",
       " 'id_publication': 'conf/pkdd/almeidanmz11',\n",
       " 'id_publication_int': 161535,\n",
       " 'title': 'is there a best quality metric for graph clusters?'}"
      ]
     },
     "execution_count": 14,
     "metadata": {},
     "output_type": "execute_result"
    }
   ],
   "source": [
    "data[0]"
   ]
  },
  {
   "cell_type": "markdown",
   "metadata": {},
   "source": [
    "so... for each publication we are interested in\n",
    "- the title (?)                      --> \n",
    "                                             data[i]['title']\n",
    "- the conference                     -->\n",
    "                                             data[i]['id_conference_int']\n",
    "- the id_publication_int             --> \n",
    "                                             data[i]['id_publication_int']\n",
    "- the dictionary of the authors      --> \n",
    "                                         data[i]['authors'][j]['author'] or\n",
    "                                         data[i]['authors'][j]['author_id']  ... for j in [0 , num of authors]"
   ]
  },
  {
   "cell_type": "markdown",
   "metadata": {},
   "source": [
    "We want to create a graph of all the authors... so we can scroll the list and, for each element of the list, check whether each author is in a dictionary 'of all the authors', that is something like:\n",
    "\n",
    "    {'author': {'name':'pippo' , 'id':123721},\n",
    "        'publications': [first_pippo's_publication_id, second_pippo's_publication_id, ...],\n",
    "      'author': {'name':'mickey' , 'id':723433},\n",
    "          'publications': [first_mickey's_publication_id, second_mickey's_publication_id, ...], ... } \n",
    "\n",
    "If NO\n",
    "- add the author to the dictionary, and it's corresponding value: the id of the current publication\n",
    "- create a new vertex in the graph, named as the id of the author\n",
    "\n",
    "If YES\n",
    "- insert the current publication id to the author in the dictionary\n",
    "\n",
    "Before moving to next item of the list (to another publication), let's add a link between the authors that collaborated for that work (if they are not linked yet)"
   ]
  },
  {
   "cell_type": "code",
   "execution_count": null,
   "metadata": {},
   "outputs": [
    {
     "name": "stderr",
     "output_type": "stream",
     "text": [
      "/home/mattiapdo/anaconda3/lib/python3.6/site-packages/networkx/drawing/nx_pylab.py:126: MatplotlibDeprecationWarning: pyplot.hold is deprecated.\n",
      "    Future behavior will be consistent with the long-time default:\n",
      "    plot commands add elements without first clearing the\n",
      "    Axes and/or Figure.\n",
      "  b = plt.ishold()\n"
     ]
    }
   ],
   "source": [
    "#code\n",
    "import networkx as nx\n",
    "import matplotlib as plt\n",
    "\n",
    "inverted_dictionary = {}\n",
    "\n",
    "Authors = nx.Graph()\n",
    "\n",
    "for dictionary in data:\n",
    "    \n",
    "    for author in dictionary['authors']:\n",
    "        if author['author_id'] not in inverted_dictionary:\n",
    "            Authors.add_node(author['author_id'])\n",
    "            inverted_dictionary[author['author_id']] = {'name': author['author'], 'publications':[(dictionary['id_publication_int'],dictionary['title'])]}\n",
    "        else:\n",
    "            inverted_dictionary[author['author_id']]['publications'].append((dictionary['id_publication_int'],dictionary['title']))\n",
    "            \n",
    "\n",
    "#nx.draw(Authors)\n",
    "#plt.show()\n",
    "\n",
    "            \n",
    "            "
   ]
  },
  {
   "cell_type": "markdown",
   "metadata": {
    "collapsed": true
   },
   "source": [
    "Now,\n",
    "    \n",
    "    for each couple of authors:\n",
    "        if they are linked:\n",
    "            evaluate the Jaccard distance\n",
    "            set it as weigth for the edge\n",
    "        "
   ]
  },
  {
   "cell_type": "code",
   "execution_count": 17,
   "metadata": {
    "collapsed": true
   },
   "outputs": [],
   "source": [
    "#code"
   ]
  },
  {
   "cell_type": "markdown",
   "metadata": {
    "collapsed": true
   },
   "source": [
    "## Given a conference in input, return the subgraph induced by the set of authors who published at the input conference at least once\n",
    "\n",
    "1) first of all.. we need to retrieve, for each conference the authors that contribuited\n",
    "\n",
    "2) given the list of authors that contributed, hence the nodes of the desired subgraph\n",
    "              \n",
    "    nbunch\n",
    "    \n",
    "we can make the induced subgraph as follows:\n",
    "\n",
    "    Graph.subgraph(nbunch)\n",
    "    \n",
    "Return the subgraph induced on nodes in nbunch. The induced subgraph of the graph conOtains the nodes in nbunch and the edges between those nodes.. For **example**\n",
    "\n",
    "    >>> G = nx.Graph()   # or DiGraph, MultiGraph, MultiDiGraph, etc\n",
    "    >>> G.add_path([0,1,2,3])\n",
    "look here:\n",
    "    \n",
    "    >>> H = G.subgraph([0,1,2])\n",
    "    >>> H.edges()\n",
    "    [(0, 1), (1, 2)]"
   ]
  },
  {
   "cell_type": "markdown",
   "metadata": {},
   "source": [
    "## Once you have the graph, compute some centralities measures (degree, closeness, betweeness) and plot them"
   ]
  },
  {
   "cell_type": "code",
   "execution_count": null,
   "metadata": {
    "collapsed": true
   },
   "outputs": [],
   "source": [
    "#code"
   ]
  }
 ],
 "metadata": {
  "kernelspec": {
   "display_name": "Python 3",
   "language": "python",
   "name": "python3"
  },
  "language_info": {
   "codemirror_mode": {
    "name": "ipython",
    "version": 3
   },
   "file_extension": ".py",
   "mimetype": "text/x-python",
   "name": "python",
   "nbconvert_exporter": "python",
   "pygments_lexer": "ipython3",
   "version": "3.6.2"
  }
 },
 "nbformat": 4,
 "nbformat_minor": 2
}
