{
 "cells": [
  {
   "cell_type": "code",
   "execution_count": 2,
   "metadata": {
    "collapsed": true
   },
   "outputs": [],
   "source": [
    "import json\n",
    "json_data = open('/home/mattiapdo/Desktop/ADM - Algorithmic Methods/Homework_3/reduced_dblp.json').read()"
   ]
  },
  {
   "cell_type": "code",
   "execution_count": 3,
   "metadata": {
    "collapsed": true
   },
   "outputs": [],
   "source": [
    "data = json.loads(json_data)"
   ]
  },
  {
   "cell_type": "markdown",
   "metadata": {},
   "source": [
    "data is a list of dictionaries... let's see the first item"
   ]
  },
  {
   "cell_type": "code",
   "execution_count": 4,
   "metadata": {},
   "outputs": [
    {
     "data": {
      "text/plain": [
       "{'authors': [{'author': 'h&eacute;lio marcos paz de almeida',\n",
       "   'author_id': 255206},\n",
       "  {'author': 'dorgival olavo guedes neto', 'author_id': 255207},\n",
       "  {'author': 'wagner meira jr.', 'author_id': 16585},\n",
       "  {'author': 'mohammed j. zaki', 'author_id': 255208}],\n",
       " 'id_conference': 'conf/pkdd/2011-1',\n",
       " 'id_conference_int': 3052,\n",
       " 'id_publication': 'conf/pkdd/almeidanmz11',\n",
       " 'id_publication_int': 161535,\n",
       " 'title': 'is there a best quality metric for graph clusters?'}"
      ]
     },
     "execution_count": 4,
     "metadata": {},
     "output_type": "execute_result"
    }
   ],
   "source": [
    "data[0]"
   ]
  },
  {
   "cell_type": "markdown",
   "metadata": {},
   "source": [
    "so... for each publication we are interested in\n",
    "- the title (?)                      --> \n",
    "                                             data[i]['title']\n",
    "- the conference                     -->\n",
    "                                             data[i]['id_conference_int']\n",
    "- the id_publication_int             --> \n",
    "                                             data[i]['id_publication_int']\n",
    "- the dictionary of the authors      --> \n",
    "                                         data[i]['authors'][j]['author'] or\n",
    "                                         data[i]['authors'][j]['author_id']  ... for j in [0 , num of authors]"
   ]
  },
  {
   "cell_type": "markdown",
   "metadata": {},
   "source": [
    "We want to create a graph of all the authors... so we can scroll the list and, for each element of the list, check whether each author is in a dictionary 'of all the authors', that is something like:\n",
    "\n",
    "    {'author': 'pippo' , 'publications': [first_pippo's_publication_id, second_pippo's_publication_id, ...],\n",
    "      'author': 'mickey' , 'publications': [first_mickey's_publication_id, second_mickey's_publication_id, ...], ... } \n",
    "\n",
    "If NO\n",
    "- add the author to the dictionary, and it's corresponding value: the id of the current publication\n",
    "- create a new vertex in the graph, named as the id of the author\n",
    "\n",
    "If YES\n",
    "- insert the current publication id to the author in the dictionary\n",
    "\n",
    "Before moving to next item of the list (to another publication), let's add a link between the authors that collaborated for that work (if they are not linked yet)"
   ]
  },
  {
   "cell_type": "code",
   "execution_count": null,
   "metadata": {
    "collapsed": true
   },
   "outputs": [],
   "source": [
    "#code\n",
    "import networkx as nx\n",
    "import matplotlib as plt\n",
    "\n",
    "\n",
    "Authors = nx.Graph()"
   ]
  },
  {
   "cell_type": "code",
   "execution_count": 15,
   "metadata": {
    "collapsed": true
   },
   "outputs": [],
   "source": [
    "def nodes_connected(G, u, v):\n",
    "    return u in G.neighbors(v)"
   ]
  },
  {
   "cell_type": "code",
   "execution_count": 19,
   "metadata": {
    "collapsed": true
   },
   "outputs": [],
   "source": [
    "inverted_dictionary = {}\n",
    "for dictionary in data:\n",
    "    # add authors to the graph if they are not in and\n",
    "    # build the inverted dictionary\n",
    "    for author in dictionary['authors']:\n",
    "        if author['author_id'] not in inverted_dictionary:\n",
    "            Authors.add_node(author['author_id'])\n",
    "            inverted_dictionary[author['author_id']] = {'name': author['author'], 'publications':[(dictionary['id_publication_int'],dictionary['title'])]}\n",
    "        else:\n",
    "            inverted_dictionary[author['author_id']]['publications'].append((dictionary['id_publication_int'],dictionary['title']))\n",
    "    \n",
    "    # add edges between authors that appear as contributors in the publication\n",
    "    # if they are not still connected\n",
    "    for author1 in dictionary['authors']:\n",
    "        for author2 in dictionary['authors']:\n",
    "            if not nodes_connected(Authors, author1['author_id'], author2['author_id']):\n",
    "                Authors.add_edge(author1['author_id'],author2['author_id'])"
   ]
  },
  {
   "cell_type": "markdown",
   "metadata": {
    "collapsed": true
   },
   "source": [
    "Now,\n",
    "    \n",
    "    for each couple of authors:\n",
    "        if they are linked:\n",
    "            evaluate the Jaccard distance\n",
    "            set it as weigth for the edge\n",
    "        "
   ]
  },
  {
   "cell_type": "code",
   "execution_count": 33,
   "metadata": {
    "collapsed": true
   },
   "outputs": [],
   "source": [
    "#code\n",
    "def jaccard_dist (id_1, id_2, inv_dict):\n",
    "    publ_1 = set([inverted_dictionary[id_1]['publications'][i][0] for i in range(len(inverted_dictionary[id_1]['publications']))])\n",
    "    publ_2 = set([inverted_dictionary[id_2]['publications'][i][0] for i in range(len(inverted_dictionary[id_2]['publications']))])\n",
    "    union  = publ_1.union(publ_2)\n",
    "    intersection = publ_1.intersection(publ_2)\n",
    "    return 1-len(intersection)/len(union)"
   ]
  },
  {
   "cell_type": "code",
   "execution_count": 34,
   "metadata": {},
   "outputs": [
    {
     "ename": "KeyboardInterrupt",
     "evalue": "",
     "output_type": "error",
     "traceback": [
      "\u001b[0;31m---------------------------------------------------------------------------\u001b[0m",
      "\u001b[0;31mKeyboardInterrupt\u001b[0m                         Traceback (most recent call last)",
      "\u001b[0;32m<ipython-input-34-d05290fdef8e>\u001b[0m in \u001b[0;36m<module>\u001b[0;34m()\u001b[0m\n\u001b[1;32m      1\u001b[0m \u001b[0;32mfor\u001b[0m \u001b[0mauthor1\u001b[0m \u001b[0;32min\u001b[0m \u001b[0minverted_dictionary\u001b[0m\u001b[0;34m:\u001b[0m\u001b[0;34m\u001b[0m\u001b[0m\n\u001b[1;32m      2\u001b[0m     \u001b[0;32mfor\u001b[0m \u001b[0mauthor2\u001b[0m \u001b[0;32min\u001b[0m \u001b[0minverted_dictionary\u001b[0m\u001b[0;34m:\u001b[0m\u001b[0;34m\u001b[0m\u001b[0m\n\u001b[0;32m----> 3\u001b[0;31m         \u001b[0;32mif\u001b[0m \u001b[0mnodes_connected\u001b[0m\u001b[0;34m(\u001b[0m\u001b[0mAuthors\u001b[0m\u001b[0;34m,\u001b[0m \u001b[0mauthor1\u001b[0m\u001b[0;34m,\u001b[0m \u001b[0mauthor2\u001b[0m\u001b[0;34m)\u001b[0m\u001b[0;34m:\u001b[0m\u001b[0;34m\u001b[0m\u001b[0m\n\u001b[0m\u001b[1;32m      4\u001b[0m             \u001b[0mAuthors\u001b[0m\u001b[0;34m[\u001b[0m\u001b[0mauthor1\u001b[0m\u001b[0;34m]\u001b[0m\u001b[0;34m[\u001b[0m\u001b[0mauthor2\u001b[0m\u001b[0;34m]\u001b[0m\u001b[0;34m[\u001b[0m\u001b[0;34m'weight'\u001b[0m\u001b[0;34m]\u001b[0m \u001b[0;34m=\u001b[0m \u001b[0mjaccard_dist\u001b[0m\u001b[0;34m(\u001b[0m\u001b[0mauthor1\u001b[0m\u001b[0;34m,\u001b[0m \u001b[0mauthor2\u001b[0m\u001b[0;34m,\u001b[0m \u001b[0minverted_dictionary\u001b[0m\u001b[0;34m)\u001b[0m\u001b[0;34m\u001b[0m\u001b[0m\n\u001b[1;32m      5\u001b[0m \u001b[0;34m\u001b[0m\u001b[0m\n",
      "\u001b[0;32m<ipython-input-15-b0ea0c22b25c>\u001b[0m in \u001b[0;36mnodes_connected\u001b[0;34m(G, u, v)\u001b[0m\n\u001b[1;32m      1\u001b[0m \u001b[0;32mdef\u001b[0m \u001b[0mnodes_connected\u001b[0m\u001b[0;34m(\u001b[0m\u001b[0mG\u001b[0m\u001b[0;34m,\u001b[0m \u001b[0mu\u001b[0m\u001b[0;34m,\u001b[0m \u001b[0mv\u001b[0m\u001b[0;34m)\u001b[0m\u001b[0;34m:\u001b[0m\u001b[0;34m\u001b[0m\u001b[0m\n\u001b[0;32m----> 2\u001b[0;31m     \u001b[0;32mreturn\u001b[0m \u001b[0mu\u001b[0m \u001b[0;32min\u001b[0m \u001b[0mG\u001b[0m\u001b[0;34m.\u001b[0m\u001b[0mneighbors\u001b[0m\u001b[0;34m(\u001b[0m\u001b[0mv\u001b[0m\u001b[0;34m)\u001b[0m\u001b[0;34m\u001b[0m\u001b[0m\n\u001b[0m",
      "\u001b[0;32m~/anaconda3/lib/python3.6/site-packages/networkx/classes/graph.py\u001b[0m in \u001b[0;36mneighbors\u001b[0;34m(self, n)\u001b[0m\n\u001b[1;32m   1057\u001b[0m         \"\"\"\n\u001b[1;32m   1058\u001b[0m         \u001b[0;32mtry\u001b[0m\u001b[0;34m:\u001b[0m\u001b[0;34m\u001b[0m\u001b[0m\n\u001b[0;32m-> 1059\u001b[0;31m             \u001b[0;32mreturn\u001b[0m \u001b[0mlist\u001b[0m\u001b[0;34m(\u001b[0m\u001b[0mself\u001b[0m\u001b[0;34m.\u001b[0m\u001b[0madj\u001b[0m\u001b[0;34m[\u001b[0m\u001b[0mn\u001b[0m\u001b[0;34m]\u001b[0m\u001b[0;34m)\u001b[0m\u001b[0;34m\u001b[0m\u001b[0m\n\u001b[0m\u001b[1;32m   1060\u001b[0m         \u001b[0;32mexcept\u001b[0m \u001b[0mKeyError\u001b[0m\u001b[0;34m:\u001b[0m\u001b[0;34m\u001b[0m\u001b[0m\n\u001b[1;32m   1061\u001b[0m             \u001b[0;32mraise\u001b[0m \u001b[0mNetworkXError\u001b[0m\u001b[0;34m(\u001b[0m\u001b[0;34m\"The node %s is not in the graph.\"\u001b[0m \u001b[0;34m%\u001b[0m \u001b[0;34m(\u001b[0m\u001b[0mn\u001b[0m\u001b[0;34m,\u001b[0m\u001b[0;34m)\u001b[0m\u001b[0;34m)\u001b[0m\u001b[0;34m\u001b[0m\u001b[0m\n",
      "\u001b[0;31mKeyboardInterrupt\u001b[0m: "
     ]
    }
   ],
   "source": [
    "for author1 in inverted_dictionary:\n",
    "    for author2 in inverted_dictionary:\n",
    "        if nodes_connected(Authors, author1, author2):\n",
    "            Authors[author1][author2]['weight'] = jaccard_dist(author1, author2, inverted_dictionary)"
   ]
  },
  {
   "cell_type": "markdown",
   "metadata": {
    "collapsed": true
   },
   "source": [
    "## Given a conference in input, return the subgraph induced by the set of authors who published at the input conference at least once\n",
    "\n",
    "given the list of nodes of the subgraph \n",
    "              \n",
    "    nbunch\n",
    "    \n",
    "we can make the induced subgraph as follows:\n",
    "\n",
    "    Graph.subgraph(nbunch)\n",
    "    \n",
    "Return the subgraph induced on nodes in nbunch. The induced subgraph of the graph conOtains the nodes in nbunch and the edges between those nodes.. For **example**\n",
    "\n",
    "    >>> G = nx.Graph()   # or DiGraph, MultiGraph, MultiDiGraph, etc\n",
    "    >>> G.add_path([0,1,2,3])\n",
    "    >>> H = G.subgraph([0,1,2])\n",
    "    >>> H.edges()\n",
    "    [(0, 1), (1, 2)]"
   ]
  },
  {
   "cell_type": "code",
   "execution_count": null,
   "metadata": {
    "collapsed": true
   },
   "outputs": [],
   "source": []
  }
 ],
 "metadata": {
  "kernelspec": {
   "display_name": "Python 3",
   "language": "python",
   "name": "python3"
  },
  "language_info": {
   "codemirror_mode": {
    "name": "ipython",
    "version": 3
   },
   "file_extension": ".py",
   "mimetype": "text/x-python",
   "name": "python",
   "nbconvert_exporter": "python",
   "pygments_lexer": "ipython3",
   "version": "3.6.2"
  }
 },
 "nbformat": 4,
 "nbformat_minor": 2
}
